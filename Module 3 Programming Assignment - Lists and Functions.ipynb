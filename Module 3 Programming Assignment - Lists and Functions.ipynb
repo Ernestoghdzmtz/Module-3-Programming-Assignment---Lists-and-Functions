{
 "cells": [
  {
   "cell_type": "code",
   "execution_count": 1,
   "id": "c14e5f08-9a67-4d94-b4dc-cdda35594175",
   "metadata": {},
   "outputs": [
    {
     "name": "stdout",
     "output_type": "stream",
     "text": [
      "['mozzarella', 'cinderella', 'salmonella']\n"
     ]
    }
   ],
   "source": [
    "# Step 7.4\n",
    "things = [\"mozzarella\", \"cinderella\", \"salmonella\"]\n",
    "print(things)\n"
   ]
  },
  {
   "cell_type": "code",
   "execution_count": 3,
   "id": "045b358b-0beb-45db-803b-54f22687f4b1",
   "metadata": {},
   "outputs": [
    {
     "name": "stdout",
     "output_type": "stream",
     "text": [
      "['mozzarella', 'Cinderella', 'salmonella']\n"
     ]
    }
   ],
   "source": [
    "# Step 7.5\n",
    "things[1] = things[1].capitalize()\n",
    "print(things)\n",
    "# Capitalizing only changes \"cinderella\" to \"Cinderella\" and modifies the list.\n"
   ]
  },
  {
   "cell_type": "code",
   "execution_count": 5,
   "id": "f81a5130-af98-4bab-a6a0-df7bcb5afbaa",
   "metadata": {},
   "outputs": [
    {
     "name": "stdout",
     "output_type": "stream",
     "text": [
      "['MOZZARELLA', 'Cinderella', 'salmonella']\n"
     ]
    }
   ],
   "source": [
    "# Step 7.6\n",
    "things[0] = things[0].upper()\n",
    "print(things)\n",
    "# \"mozzarella\" is now \"MOZZARELLA\" in the list.\n"
   ]
  },
  {
   "cell_type": "code",
   "execution_count": 7,
   "id": "8d42f4f1-9314-444d-8906-b998814182d2",
   "metadata": {},
   "outputs": [
    {
     "name": "stdout",
     "output_type": "stream",
     "text": [
      "['MOZZARELLA', 'Cinderella']\n"
     ]
    }
   ],
   "source": [
    "# Step 7.7\n",
    "del things[2]\n",
    "print(things)\n",
    "# The list now excludes \"salmonella.\"\n"
   ]
  },
  {
   "cell_type": "code",
   "execution_count": 9,
   "id": "8ba99ab5-a239-4abb-9066-e2b61f78dcc7",
   "metadata": {},
   "outputs": [
    {
     "name": "stdout",
     "output_type": "stream",
     "text": [
      "['Harry', 'Ron', 'Hermione']\n"
     ]
    }
   ],
   "source": [
    "# Step 9.1\n",
    "def good():\n",
    "    return [\"Harry\", \"Ron\", \"Hermione\"]\n",
    "\n",
    "# Test the function\n",
    "print(good())\n"
   ]
  },
  {
   "cell_type": "code",
   "execution_count": 11,
   "id": "26566fa0-4bee-4853-8a52-f7ae3291b623",
   "metadata": {},
   "outputs": [
    {
     "name": "stdout",
     "output_type": "stream",
     "text": [
      "5\n"
     ]
    }
   ],
   "source": [
    "# Step 9.2\n",
    "def get_odds():\n",
    "    for number in range(10):\n",
    "        if number % 2 != 0:  # Check if the number is odd\n",
    "            yield number\n",
    "\n",
    "# Find and print the third odd number\n",
    "odds = get_odds()\n",
    "for i, number in enumerate(odds, 1):\n",
    "    if i == 3:\n",
    "        print(number)  # This will print the third odd number\n",
    "        break\n"
   ]
  },
  {
   "cell_type": "code",
   "execution_count": null,
   "id": "1d9934bf-44d0-42d6-be6a-c266e730dc37",
   "metadata": {},
   "outputs": [],
   "source": []
  }
 ],
 "metadata": {
  "kernelspec": {
   "display_name": "anaconda-ai-2024.04-py310",
   "language": "python",
   "name": "conda-env-anaconda-ai-2024.04-py310-py"
  },
  "language_info": {
   "codemirror_mode": {
    "name": "ipython",
    "version": 3
   },
   "file_extension": ".py",
   "mimetype": "text/x-python",
   "name": "python",
   "nbconvert_exporter": "python",
   "pygments_lexer": "ipython3",
   "version": "3.10.13"
  }
 },
 "nbformat": 4,
 "nbformat_minor": 5
}
